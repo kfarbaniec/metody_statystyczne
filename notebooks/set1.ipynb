{
 "cells": [
  {
   "cell_type": "code",
   "execution_count": 1,
   "metadata": {
    "collapsed": true
   },
   "outputs": [],
   "source": [
    "import numpy as np\n",
    "import matplotlib.pyplot as plt"
   ]
  },
  {
   "cell_type": "code",
   "execution_count": 2,
   "metadata": {
    "collapsed": true
   },
   "outputs": [],
   "source": [
    "Plogin, Pleave= 0.2, 0.5\n"
   ]
  },
  {
   "cell_type": "markdown",
   "metadata": {},
   "source": [
    "$\\text{1. }$\n",
    "$ P_{0} \\text{ Transition Matrix in } t_{0}$"
   ]
  },
  {
   "cell_type": "code",
   "execution_count": 3,
   "metadata": {
    "collapsed": true
   },
   "outputs": [],
   "source": [
    "P0 = np.zeros((3,3),dtype=float)\n",
    "\n",
    "# outputs from each node sums to 1.0\n",
    "P0[0, 0] = 0.8**2\n",
    "P0[0, 1] = 2.*0.2*0.8\n",
    "P0[0, 2] = 0.2**2\n",
    "\n",
    "P0[1, 0] = 0.8*0.5\n",
    "P0[1, 1] = 0.8*0.5 + 0.2*0.5\n",
    "P0[1, 2] = 0.5*0.2\n",
    "\n",
    "P0[2, 0] = 0.5**2\n",
    "P0[2, 1] = 2.*0.5*0.5\n",
    "P0[2, 2] = 0.5**2"
   ]
  },
  {
   "cell_type": "code",
   "execution_count": 4,
   "metadata": {},
   "outputs": [
    {
     "data": {
      "text/plain": [
       "array([1., 1., 1.])"
      ]
     },
     "execution_count": 4,
     "metadata": {},
     "output_type": "execute_result"
    }
   ],
   "source": [
    "#check if proper matrix\n",
    "P0.sum(axis=1)"
   ]
  },
  {
   "cell_type": "markdown",
   "metadata": {},
   "source": [
    "$\\text{2. }$\n",
    "$\\text{Find } P^{N} \\text{for any } N\\text{, check when } P^{N} - P^{N-1} $"
   ]
  },
  {
   "cell_type": "code",
   "execution_count": 5,
   "metadata": {
    "collapsed": true
   },
   "outputs": [],
   "source": [
    "def p_to_n(P,N):\n",
    "    tmp = P.copy()\n",
    "    for k in range(N):\n",
    "        tmp = tmp @ tmp\n",
    "    return tmp"
   ]
  },
  {
   "cell_type": "code",
   "execution_count": 6,
   "metadata": {},
   "outputs": [
    {
     "data": {
      "text/plain": [
       "True"
      ]
     },
     "execution_count": 6,
     "metadata": {},
     "output_type": "execute_result"
    }
   ],
   "source": [
    "np.any(P0 > 0.1)"
   ]
  },
  {
   "cell_type": "code",
   "execution_count": 7,
   "metadata": {},
   "outputs": [
    {
     "name": "stdout",
     "output_type": "stream",
     "text": [
      "N bar value: 5\n"
     ]
    }
   ],
   "source": [
    "find_n_bar = True\n",
    "n_counter = 1\n",
    "prev_p = P0.copy()\n",
    "curr_p = P0.copy()\n",
    "# curr_p *= P0 # n == 1\n",
    "while(find_n_bar):\n",
    "    curr_p = p_to_n(P0, n_counter)\n",
    "    prev_p = p_to_n(P0, n_counter-1)\n",
    "    diff = curr_p - prev_p\n",
    "#     print(diff)\n",
    "    if np.any(np.abs(diff) > 1.0e-5):\n",
    "        n_counter+=1\n",
    "    else:\n",
    "        find_n_bar = False\n",
    "n_bar = n_counter\n",
    "print(\"N bar value: {}\".format(n_bar))"
   ]
  },
  {
   "cell_type": "markdown",
   "metadata": {},
   "source": [
    "$\\text{2.1 Plot diagonal values of } \\textbf{P} \\text{ in refere to } n $"
   ]
  },
  {
   "cell_type": "code",
   "execution_count": 8,
   "metadata": {
    "collapsed": true
   },
   "outputs": [],
   "source": [
    "n_count = 10\n",
    "diagonals = np.zeros((n_count, 3))\n",
    "for k in range(n_count):\n",
    "    P = p_to_n(P0, k)\n",
    "    diagonals[k, 0] = P[0, 0]\n",
    "    diagonals[k, 1] = P[1, 1]\n",
    "    diagonals[k, 2] = P[2, 2]\n",
    "    "
   ]
  },
  {
   "cell_type": "code",
   "execution_count": 9,
   "metadata": {},
   "outputs": [
    {
     "data": {
      "image/png": "[encoded data removed]",
      "text/plain": [
       "<Figure size 432x288 with 2 Axes>"
      ]
     },
     "metadata": {},
     "output_type": "display_data"
    }
   ],
   "source": [
    "plt.imshow(diagonals.T, interpolation=\"nearest\", origin=\"upper\")\n",
    "plt.colorbar()\n",
    "plt.xlabel(\"State number\")\n",
    "plt.ylabel(\"N value\")\n",
    "plt.title(\"P diagonals values in reference to N\")\n",
    "plt.show()"
   ]
  },
  {
   "cell_type": "code",
   "execution_count": 10,
   "metadata": {},
   "outputs": [
    {
     "data": {
      "image/png": "[encoded data removed]",
      "text/plain": [
       "<Figure size 432x288 with 1 Axes>"
      ]
     },
     "metadata": {},
     "output_type": "display_data"
    }
   ],
   "source": [
    "plt.plot(range(n_count), diagonals.T[0,:])\n",
    "plt.plot(range(n_count), diagonals.T[1,:])\n",
    "plt.plot(range(n_count), diagonals.T[2,:])\n",
    "plt.xlabel(\"State number\")\n",
    "plt.ylabel(\"N value\")\n",
    "plt.title(\"P diagonals values in reference to N\")\n",
    "plt.show()"
   ]
  },
  {
   "cell_type": "markdown",
   "metadata": {},
   "source": [
    "##### 3."
   ]
  },
  {
   "cell_type": "code",
   "execution_count": 11,
   "metadata": {
    "collapsed": true
   },
   "outputs": [],
   "source": [
    "\n",
    "# returns randomly choosen next state\n",
    "def transist(P, curr_state):\n",
    "    assert curr_state < 3 and curr_state >= 0, \"current state out of state space\"\n",
    "    return int(np.random.choice(range(3), 1, p=P[curr_state, :]))\n",
    "\n",
    "def calculate_evolution_array(P0, S0, N, n_bar):\n",
    "    S = S0\n",
    "    results = np.zeros(N)\n",
    "    # Number of evolutions\n",
    "    for m in range(N):\n",
    "    # many steps single evolution\n",
    "        for k in range(n_bar):\n",
    "            S = transist(P0, S)\n",
    "        results[m] = S\n",
    "    return results"
   ]
  },
  {
   "cell_type": "code",
   "execution_count": 12,
   "metadata": {
    "collapsed": true
   },
   "outputs": [],
   "source": [
    "S0, N, n_bar = 0, 10**4, 200\n",
    "\n",
    "res = calculate_evolution_array(P0, S0, N, n_bar)"
   ]
  },
  {
   "cell_type": "code",
   "execution_count": 13,
   "metadata": {
    "collapsed": true
   },
   "outputs": [],
   "source": [
    "unique, counts = np.unique(res, return_counts=True)\n",
    "counted_final_states = dict(zip(unique, counts))"
   ]
  },
  {
   "cell_type": "code",
   "execution_count": 14,
   "metadata": {},
   "outputs": [
    {
     "data": {
      "text/plain": [
       "{0.0: 5055, 1.0: 4050, 2.0: 895}"
      ]
     },
     "execution_count": 14,
     "metadata": {},
     "output_type": "execute_result"
    }
   ],
   "source": [
    "counted_final_states"
   ]
  },
  {
   "cell_type": "markdown",
   "metadata": {},
   "source": [
    "### other initial states"
   ]
  },
  {
   "cell_type": "code",
   "execution_count": null,
   "metadata": {
    "collapsed": true
   },
   "outputs": [],
   "source": [
    "S0, N, n_bar = 1, 10**4, 200\n",
    "res1 = calculate_evolution_array(P0, S0, N, n_bar)\n",
    "S0, N, n_bar = 2, 10**4, 200\n",
    "res2 = calculate_evolution_array(P0, S0, N, n_bar)"
   ]
  },
  {
   "cell_type": "code",
   "execution_count": null,
   "metadata": {
    "collapsed": true
   },
   "outputs": [],
   "source": [
    "unique, counts = np.unique(res1, return_counts=True)\n",
    "one_starting_results = dict(zip(unique, counts))\n",
    "unique, counts = np.unique(res2, return_counts=True)\n",
    "two_starting_results = dict(zip(unique, counts))"
   ]
  },
  {
   "cell_type": "code",
   "execution_count": null,
   "metadata": {
    "collapsed": true
   },
   "outputs": [],
   "source": [
    "for k in counted_final_states.keys():\n",
    "    counted_final_states[k] /= N\n",
    "    one_start[k] /= N\n",
    "    counted_final_states[k] /= N\n"
   ]
  }
 ],
 "metadata": {
  "kernelspec": {
   "display_name": "Python 3",
   "language": "python",
   "name": "python3"
  },
  "language_info": {
   "codemirror_mode": {
    "name": "ipython",
    "version": 3
   },
   "file_extension": ".py",
   "mimetype": "text/x-python",
   "name": "python",
   "nbconvert_exporter": "python",
   "pygments_lexer": "ipython3",
   "version": "3.6.2"
  }
 },
 "nbformat": 4,
 "nbformat_minor": 2
}
