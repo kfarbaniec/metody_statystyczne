{
 "cells": [
  {
   "cell_type": "markdown",
   "metadata": {},
   "source": [
    "## Napisać symulację procesu kolejkowego M/M/1 (najlepiej od razu przypadek ogólny dla M/M/k/c)dla parametrów λA=1/(20min)  i λs=1/(15min).\n",
    "\n",
    "### Proszę zbadać zależność następujących wielkości:\n",
    "\n",
    "* 13.E(x) , gdzie x– całkowita liczba zdarzeń w systemie\n",
    "* 14.E(R), gdzie R – całkowity czas spędzony w systemie\n",
    "* 15.E(xw), gdzie xw– liczba zadań w kolejce \n",
    "\n",
    "##### od parametrów procesu λA i λs oraz ich zbieżność w czasie."
   ]
  },
  {
   "cell_type": "code",
   "execution_count": 5,
   "metadata": {},
   "outputs": [],
   "source": [
    "import numpy as np\n",
    "from matplotlib import pyplot as plt"
   ]
  },
  {
   "cell_type": "code",
   "execution_count": 6,
   "metadata": {},
   "outputs": [],
   "source": [
    "# Wykladniczy rozklad czasu pomiedzy kolejny zgloszeniami do systemu\n",
    "# lmbda * exp(-lmbda)\n",
    "lmbda_a = 1./20.\n",
    "# Wykladniczy rozklad czasu obslugi pojedynczego zgloszenia\n",
    "# lmbda * exp(-lmbda)\n",
    "lmbda_s = 1./15."
   ]
  },
  {
   "cell_type": "code",
   "execution_count": 4,
   "metadata": {},
   "outputs": [],
   "source": [
    "class Events():\n",
    "    empty = True\n",
    "    \n",
    "    def __init__(self):\n",
    "        self.t_gen = []\n",
    "        self.t_in = []\n",
    "        self.t_out = []\n",
    "    \n",
    "    def add_event(self, t_gen, t_out):\n",
    "        if self.empty:\n",
    "            self.empty = not self.empty\n",
    "        self.t_gen.append(t_gen) \n",
    "        try:\n",
    "            self.t_in.append(max(t_gen, t_out[-1]))\n",
    "            self.t_out.append(self.t_gen[-1] + t_in[-1])\n",
    "        except:\n",
    "            pass\n",
    "        "
   ]
  },
  {
   "cell_type": "code",
   "execution_count": null,
   "metadata": {},
   "outputs": [],
   "source": [
    "random_seed = 123\n",
    "rng = np.random.RandomState(seed=random_seed)"
   ]
  },
  {
   "cell_type": "code",
   "execution_count": 40,
   "metadata": {},
   "outputs": [],
   "source": [
    "def generate_exponential(lmbda, title, size=10000, v=True, bins_scaler=200 ):\n",
    "    time_exponential = rng.exponential(1/lmbda, size=size)\n",
    "    if v:\n",
    "        plt.hist(time_exponential,bins=int(size/bins_scaler))\n",
    "        plt.title(title + \" - sampled data\")\n",
    "        plt.show()\n",
    "        # E(X) = 1/lmbda\n",
    "        E_X = time_exponential.mean()\n",
    "        print(\"estimated E_X = {}\".format(E_X))\n",
    "        print(\"thoeretical E_X = {}\".format(1/lmbda))\n",
    "    return time_exponential"
   ]
  },
  {
   "cell_type": "code",
   "execution_count": 41,
   "metadata": {},
   "outputs": [
    {
     "data": {
      "image/png": "[encoded data removed]",
      "text/plain": [
       "<Figure size 432x288 with 1 Axes>"
      ]
     },
     "metadata": {},
     "output_type": "display_data"
    },
    {
     "name": "stdout",
     "output_type": "stream",
     "text": [
      "estimated E_X = 19.75767620201336\n",
      "thoeretical E_X = 20.0\n"
     ]
    },
    {
     "data": {
      "image/png": "[encoded data removed]",
      "text/plain": [
       "<Figure size 432x288 with 1 Axes>"
      ]
     },
     "metadata": {},
     "output_type": "display_data"
    },
    {
     "name": "stdout",
     "output_type": "stream",
     "text": [
      "estimated E_X = 14.95430704486887\n",
      "thoeretical E_X = 15.0\n"
     ]
    }
   ],
   "source": [
    "t_arrival = generate_exponential(lmbda_a, \"arrival times\")\n",
    "t_service = generate_exponential(lmbda_s, \"service times\")"
   ]
  },
  {
   "cell_type": "code",
   "execution_count": null,
   "metadata": {},
   "outputs": [],
   "source": []
  },
  {
   "cell_type": "code",
   "execution_count": null,
   "metadata": {},
   "outputs": [],
   "source": []
  },
  {
   "cell_type": "code",
   "execution_count": null,
   "metadata": {},
   "outputs": [],
   "source": []
  },
  {
   "cell_type": "code",
   "execution_count": null,
   "metadata": {
    "collapsed": true
   },
   "outputs": [],
   "source": []
  },
  {
   "cell_type": "code",
   "execution_count": null,
   "metadata": {
    "collapsed": true
   },
   "outputs": [],
   "source": []
  },
  {
   "cell_type": "code",
   "execution_count": null,
   "metadata": {
    "collapsed": true
   },
   "outputs": [],
   "source": []
  }
 ],
 "metadata": {
  "kernelspec": {
   "display_name": "Python 3",
   "language": "python",
   "name": "python3"
  },
  "language_info": {
   "codemirror_mode": {
    "name": "ipython",
    "version": 3
   },
   "file_extension": ".py",
   "mimetype": "text/x-python",
   "name": "python",
   "nbconvert_exporter": "python",
   "pygments_lexer": "ipython3",
   "version": "3.6.4"
  }
 },
 "nbformat": 4,
 "nbformat_minor": 2
}
