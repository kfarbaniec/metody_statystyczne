{
 "cells": [
  {
   "cell_type": "markdown",
   "metadata": {},
   "source": [
    "## Napisać symulację procesu kolejkowego M/M/1 (najlepiej od razu przypadek ogólny dla M/M/k/c)dla parametrów λA=1/(20min)  i λs=1/(15min).\n",
    "\n",
    "### Proszę zbadać zależność następujących wielkości:\n",
    "\n",
    "* 13.E(x) , gdzie x– całkowita liczba zdarzeń w systemie\n",
    "* 14.E(R), gdzie R – całkowity czas spędzony w systemie\n",
    "* 15.E(xw), gdzie xw– liczba zadań w kolejce \n",
    "\n",
    "##### od parametrów procesu λA i λs oraz ich zbieżność w czasie."
   ]
  },
  {
   "cell_type": "code",
   "execution_count": 1,
   "metadata": {},
   "outputs": [],
   "source": [
    "# %pwd\n",
    "import numpy as np\n",
    "import matplotlib.pyplot as plt\n"
   ]
  },
  {
   "cell_type": "code",
   "execution_count": 2,
   "metadata": {},
   "outputs": [],
   "source": [
    "from ex3.estimator import Estimator\n",
    "from ex3.events import Events\n"
   ]
  },
  {
   "cell_type": "code",
   "execution_count": 3,
   "metadata": {},
   "outputs": [],
   "source": [
    "random_seed = 123\n",
    "rng = np.random.RandomState(seed=random_seed)"
   ]
  },
  {
   "cell_type": "code",
   "execution_count": 4,
   "metadata": {},
   "outputs": [],
   "source": [
    "def generate_exponential(lmbda, title, size=1000, v=True, bins_scaler=200 ):\n",
    "    time_exponential = rng.exponential(1./lmbda, size=size)\n",
    "    if v:\n",
    "        plt.hist(time_exponential,bins=int(size/bins_scaler))\n",
    "        plt.title(title + \" - sampled data\")\n",
    "        plt.show()\n",
    "        # E(X) = 1/lmbda\n",
    "        E_X = time_exponential.mean()\n",
    "        print(\"estimated E_X = {}\".format(E_X))\n",
    "        print(\"thoeretical E_X = {}\".format(1/lmbda))\n",
    "    return time_exponential"
   ]
  },
  {
   "cell_type": "code",
   "execution_count": 5,
   "metadata": {},
   "outputs": [],
   "source": [
    "# Wykladniczy rozklad czasu pomiedzy kolejny zgloszeniami do systemu\n",
    "# lmbda * exp(-lmbda)\n",
    "lmbda_a = 1./20. #min^-1\n",
    "# Wykladniczy rozklad czasu obslugi pojedynczego zgloszenia\n",
    "# lmbda * exp(-lmbda)\n",
    "lmbda_s = 1./15. #min^-1\n",
    "dataset_size = 10000\n",
    "\n",
    "t_arrival = generate_exponential(lmbda_a, \"arrival times\", size=dataset_size, v=False)\n",
    "t_service = generate_exponential(lmbda_s, \"service times\", size=dataset_size, v=False)"
   ]
  },
  {
   "cell_type": "code",
   "execution_count": 6,
   "metadata": {},
   "outputs": [],
   "source": [
    "events = Events()\n",
    "for idx, arrive in enumerate(t_arrival):\n",
    "    events.add_event(arrive, t_service[idx])\n",
    "\n",
    "events.prepare_total_marked()\n",
    "events.calc_tasks_in_sys()\n",
    "\n",
    "events.calc_time_in_sys()\n",
    "# R - time in system\n",
    "R = events.time_in_sys\n",
    "\n",
    "events.prepare_queue()\n",
    "events.calc_queue()\n",
    "x_w = events.task_queue"
   ]
  },
  {
   "cell_type": "code",
   "execution_count": null,
   "metadata": {},
   "outputs": [
    {
     "name": "stderr",
     "output_type": "stream",
     "text": [
      "/home/karol/Desktop/inf/ms/metody_statystyczne/notebooks/ex3/estimator.py:28: RuntimeWarning: invalid value encountered in double_scalars\n",
      "  estimated[idx] = sum(mults[:idx]) / t_marked_0_col[idx]\n",
      "/home/karol/Desktop/inf/ms/metody_statystyczne/notebooks/ex3/estimator.py:72: RuntimeWarning: invalid value encountered in double_scalars\n",
      "  estimated[idx] = sum(mults[:idx]) / t_queue_0_col[idx]\n"
     ]
    }
   ],
   "source": [
    "xx = []\n",
    "RR = []\n",
    "xww = []\n",
    "lmbdas = [(1./20., 1./15.), (1./20., 1./18.), (1./20., 1./20.), (1./20., 1./23.)]\n",
    "dataset_size = 10000\n",
    "    \n",
    "for lmbd in lmbdas:\n",
    "\n",
    "\n",
    "    t_arrival = generate_exponential(lmbd[0], \"arrival times\", size=dataset_size, v=False)\n",
    "    t_service = generate_exponential(lmbd[1], \"service times\", size=dataset_size, v=False)\n",
    "    events = Events()\n",
    "    for idx, arrive in enumerate(t_arrival):\n",
    "        events.add_event(arrive, t_service[idx])\n",
    "\n",
    "    events.prepare_total_marked()\n",
    "    events.calc_tasks_in_sys()\n",
    "\n",
    "    events.calc_time_in_sys()\n",
    "    # R - time in system\n",
    "    R = events.time_in_sys\n",
    "\n",
    "    events.prepare_queue()\n",
    "    events.calc_queue()\n",
    "    \n",
    "    x_w = events.task_queue\n",
    "    \n",
    "    xx.append(Estimator.estimate_x(events.t_marked[:,0], events.tasks_in_sys))\n",
    "    RR.append(Estimator.estimate_R(R))\n",
    "    xww.append(Estimator.estimate_xw(events.t_queue[:,0], x_w))"
   ]
  },
  {
   "cell_type": "markdown",
   "metadata": {},
   "source": [
    "### Zbieżność w czasie dla zakładanych parametrów\n",
    "\n",
    "###### λA=1/(20min) i λs=1/(15min),\n",
    "\n",
    "###### λA=1/(20min) i λs=1/(18min),\n",
    "\n",
    "###### λA=1/(20min) i λs=1/(20min),\n",
    "\n",
    "###### λA=1/(20min) i λs=1/(23min) "
   ]
  },
  {
   "cell_type": "code",
   "execution_count": null,
   "metadata": {},
   "outputs": [],
   "source": [
    "\n"
   ]
  },
  {
   "cell_type": "code",
   "execution_count": null,
   "metadata": {},
   "outputs": [],
   "source": [
    "legend = []\n",
    "plt.figure(figsize=(20,10))\n",
    "for idx, x in enumerate(xx):\n",
    "    plt.plot(range(len(x)), x)\n",
    "    legend.append(\"(lambda arrive, lambda service)= \"+str(lmbdas[idx]))\n",
    "plt.title(\"Tasks in system estimation - x\")\n",
    "plt.xlabel(\"amout of events to estimation\")\n",
    "plt.ylabel(\"Tasks count \")\n",
    "plt.legend(legend)\n",
    "plt.show()"
   ]
  },
  {
   "cell_type": "code",
   "execution_count": null,
   "metadata": {
    "scrolled": true
   },
   "outputs": [],
   "source": []
  },
  {
   "cell_type": "code",
   "execution_count": null,
   "metadata": {},
   "outputs": [],
   "source": [
    "legend = []\n",
    "plt.figure(figsize=(20,10))\n",
    "for idx, r in enumerate(RR):\n",
    "    plt.plot(range(len(r)), r)\n",
    "    legend.append(\"(lambda arrive, lambda service)= \"+str(lmbdas[idx]))\n",
    "plt.title(\"Estimated time in system on task - R\")\n",
    "plt.xlabel(\"Ordered task showed up in system\")\n",
    "plt.ylabel(\"time per task [minutes]\")\n",
    "plt.legend(legend)\n",
    "plt.show()"
   ]
  },
  {
   "cell_type": "code",
   "execution_count": null,
   "metadata": {
    "scrolled": true
   },
   "outputs": [],
   "source": []
  },
  {
   "cell_type": "code",
   "execution_count": null,
   "metadata": {},
   "outputs": [],
   "source": [
    "legend = []\n",
    "plt.figure(figsize=(20,10))\n",
    "for idx, xw in enumerate(xww):\n",
    "    plt.plot(range(len(xw)), xw)\n",
    "    legend.append(\"(lambda arrive, lambda service)= \"+str(lmbdas[idx]))\n",
    "plt.title(\"Queue estimation - xw\")\n",
    "plt.xlabel(\"genereted task in simulation\")\n",
    "plt.ylabel(\"Tasks in queue\")\n",
    "plt.show()\n",
    "\n"
   ]
  },
  {
   "cell_type": "markdown",
   "metadata": {},
   "source": []
  },
  {
   "cell_type": "code",
   "execution_count": null,
   "metadata": {},
   "outputs": [],
   "source": []
  },
  {
   "cell_type": "code",
   "execution_count": null,
   "metadata": {},
   "outputs": [],
   "source": []
  }
 ],
 "metadata": {
  "kernelspec": {
   "display_name": "Python 3",
   "language": "python",
   "name": "python3"
  },
  "language_info": {
   "codemirror_mode": {
    "name": "ipython",
    "version": 3
   },
   "file_extension": ".py",
   "mimetype": "text/x-python",
   "name": "python",
   "nbconvert_exporter": "python",
   "pygments_lexer": "ipython3",
   "version": "3.6.5"
  }
 },
 "nbformat": 4,
 "nbformat_minor": 2
}
