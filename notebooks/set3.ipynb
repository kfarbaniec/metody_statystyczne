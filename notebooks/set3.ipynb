{
 "cells": [
  {
   "cell_type": "markdown",
   "metadata": {},
   "source": [
    "## Napisać symulację procesu kolejkowego M/M/1 (najlepiej od razu przypadek ogólny dla M/M/k/c)dla parametrów λA=1/(20min)  i λs=1/(15min).\n",
    "\n",
    "### Proszę zbadać zależność następujących wielkości:\n",
    "\n",
    "* 13.E(x) , gdzie x– całkowita liczba zdarzeń w systemie\n",
    "* 14.E(R), gdzie R – całkowity czas spędzony w systemie\n",
    "* 15.E(xw), gdzie xw– liczba zadań w kolejce \n",
    "\n",
    "##### od parametrów procesu λA i λs oraz ich zbieżność w czasie."
   ]
  },
  {
   "cell_type": "code",
   "execution_count": 1,
   "metadata": {},
   "outputs": [],
   "source": [
    "import numpy as np\n",
    "from matplotlib import pyplot as plt"
   ]
  },
  {
   "cell_type": "code",
   "execution_count": 2,
   "metadata": {},
   "outputs": [],
   "source": [
    "class Events():\n",
    "    empty = True\n",
    "    \n",
    "    def __init__(self):\n",
    "        self.t_arr_cumul = [0]  # task arrival time\n",
    "        self.t_serv = [0]\n",
    "        self.t_in = [0]  # task input time\n",
    "        self.t_out = [0] # task out time \n",
    "        self.t_marked = [0]\n",
    "        self.tasks_in_sys = [0]\n",
    "        self.time_in_sys = None\n",
    "        self.task_queue = None\n",
    "        \n",
    "        \n",
    "    def add_event(self, t_arrive, t_service):\n",
    "#         if self.empty:\n",
    "#             self.empty = not self.empty\n",
    "        self.t_arr_cumul.append(self.t_arr_cumul[-1]+t_arrive)\n",
    "        self.t_serv.append(t_service)           \n",
    "        self.t_in.append(max(t_arrive+self.t_arr_cumul[-1], self.t_out[-1]))\n",
    "        self.t_out.append(t_service + self.t_in[-1])\n",
    "        \n",
    "    \n",
    "    def prepare_total_marked(self):\n",
    "        t_marked = np.ones((len(self.t_arr_cumul) + len(self.t_out),2))\n",
    "        show_up_stamp = 0\n",
    "        out_stamp = 1\n",
    "\n",
    "        for idx, k in enumerate(self.t_arr_cumul):\n",
    "            t_marked[idx, 0]= k\n",
    "            t_marked[idx, 1]= show_up_stamp\n",
    "        offset  = len(self.t_arr_cumul)\n",
    "\n",
    "        for idx, k in enumerate(self.t_out):\n",
    "            t_marked[offset+ idx, 0]= k\n",
    "            t_marked[offset+ idx, 1]= out_stamp\n",
    "        ind = np.argsort( t_marked[:,0] );\n",
    "        self.t_marked = t_marked[ind]\n",
    "        \n",
    "    \n",
    "    def calc_tasks_in_sys(self):\n",
    "        tasks_in_system = np.zeros(len(self.t_marked))\n",
    "        last_gen_idx = 0\n",
    "        for idx, ev in enumerate(self.t_marked):\n",
    "            if ev[1] == 0:\n",
    "                tasks_in_system[idx] = tasks_in_system[idx-1] + 1\n",
    "                last_gen_idx = idx\n",
    "            else:\n",
    "                tasks_in_system[idx] = tasks_in_system[idx-1] - 1\n",
    "        self.tasks_in_sys = tasks_in_system\n",
    "        \n",
    "        \n",
    "    def plot_tasks_in_sys(self,a=0,b=50):\n",
    "        # plt.plot(total_marked[:last_gen_idx,0], tasks_in_system[:last_gen_idx])\n",
    "        plt.plot(self.t_marked[:,0], self.tasks_in_sys)\n",
    "        plt.title(\"Total tasks in system\")\n",
    "        plt.xlabel(\"time [minutes]\")\n",
    "        plt.ylabel(\"tasks count\")\n",
    "        plt.show()\n",
    "        plt.scatter(self.t_marked[a:b,0], self.tasks_in_sys[a:b])\n",
    "        plt.title(\"Tasks in system partial\")\n",
    "        plt.xlabel(\"time [minutes]\")\n",
    "        plt.ylabel(\"tasks count\")\n",
    "        plt.show()\n",
    "        \n",
    "        \n",
    "    def calc_time_in_sys(self):\n",
    "        time_in_sys = np.ones(len(self.t_arr_cumul))\n",
    "        for idx, arr in enumerate(self.t_arr_cumul[1:]):\n",
    "            time_in_sys[idx] = self.t_out[idx+1] - arr\n",
    "        self.time_in_sys = time_in_sys\n",
    "        \n",
    "        \n",
    "    def prepare_queue(self):\n",
    "        t_queue = np.ones((len(self.t_arr_cumul) + len(self.t_in),2))\n",
    "        show_up_stamp = 0\n",
    "        in_stamp = 1\n",
    "\n",
    "        for idx, k in enumerate(self.t_arr_cumul):\n",
    "            t_queue[idx, 0]= k\n",
    "            t_queue[idx, 1]= show_up_stamp\n",
    "        offset  = len(self.t_arr_cumul)\n",
    "\n",
    "        for idx, k in enumerate(self.t_in):\n",
    "            t_queue[offset+ idx, 0]= k\n",
    "            t_queue[offset+ idx, 1]= in_stamp\n",
    "        ind = np.argsort( t_queue[:,0] );\n",
    "        self.t_queue = t_queue[ind]\n",
    "        \n",
    "        \n",
    "    def calc_queue(self, show_up_stamp=0, in_stamp=1):\n",
    "        tasks_in_queue = np.zeros(len(self.t_queue))\n",
    "        last_gen_idx = 0\n",
    "        for idx, ev in enumerate(self.t_queue):\n",
    "            if ev[1] == show_up_stamp:\n",
    "                tasks_in_queue[idx] = tasks_in_queue[idx-1] + 1\n",
    "                last_gen_idx = idx\n",
    "            else:\n",
    "                tasks_in_queue[idx] = tasks_in_queue[idx-1] - 1\n",
    "        self.task_queue = tasks_in_queue"
   ]
  },
  {
   "cell_type": "code",
   "execution_count": 3,
   "metadata": {},
   "outputs": [],
   "source": [
    "def estimate_x(t_marked_0_col, tasks_in_sys):\n",
    "    \"\"\" function to estimate overall events in system\"\"\"\n",
    "    assert len(t_marked_0_col) == len(tasks_in_sys)\n",
    "    \n",
    "    estimated = list(tasks_in_sys)\n",
    "    tasks = list(tasks_in_sys)\n",
    "    time_diffs = list(tasks_in_sys)\n",
    "    \n",
    "    for idx, task in enumerate(tasks_in_sys):\n",
    "        if idx == len(tasks_in_sys)-1:\n",
    "            break\n",
    "        tasks[idx] = task\n",
    "        time_diffs[idx] = t_marked_0_col[idx+1] - t_marked_0_col[idx]\n",
    "    tasks = tasks[:-1]\n",
    "    time_diffs = time_diffs[:-1]\n",
    "    mults = [a*b for a,b in zip(tasks, time_diffs)]\n",
    "    \n",
    "    for idx, m in enumerate(mults):\n",
    "        if idx == 0:\n",
    "            continue\n",
    "        else:\n",
    "            estimated[idx] = sum(mults[:idx])/t_marked_0_col[idx]\n",
    "        \n",
    "    return estimated[1:-1]"
   ]
  },
  {
   "cell_type": "code",
   "execution_count": 4,
   "metadata": {},
   "outputs": [],
   "source": [
    "def estimate_R(R):\n",
    "    \"\"\"\n",
    "    function to estimate overall time in system per task\n",
    "    \n",
    "    :param R: time per task\n",
    "    \"\"\"\n",
    "#     assert len(t_arr_cumul) == len(R), \"Must have equal length\"\n",
    "    estimated = list(R)\n",
    "    vals = list(R)\n",
    "    for idx, t in enumerate(R):\n",
    "        vals[idx] = t\n",
    "        if len(vals[:idx]) == 0:\n",
    "            continue\n",
    "        else:\n",
    "            estimated[idx-1] = sum(vals[:idx])/(len(vals[:idx])+0.0001)\n",
    "    return estimated[:-1]"
   ]
  },
  {
   "cell_type": "code",
   "execution_count": 5,
   "metadata": {},
   "outputs": [],
   "source": [
    "def estimate_xw(t_queue_0_col, x_w):\n",
    "    \"\"\" function to estimate tasks in queue\"\"\"\n",
    "    assert len(t_queue_0_col) == len(x_w)\n",
    "    \n",
    "    estimated = list(x_w)\n",
    "    queued = list(x_w)\n",
    "    time_diffs = list(x_w)\n",
    "    \n",
    "    for idx, queue in enumerate(x_w):\n",
    "        if idx == len(x_w)-1:\n",
    "            break\n",
    "        queued[idx] = queue\n",
    "        time_diffs[idx] = t_queue_0_col[idx+1] - t_queue_0_col[idx]\n",
    "    queued = queued[:-1]\n",
    "    time_diffs = time_diffs[:-1]\n",
    "    mults = [a*b for a,b in zip(queued, time_diffs)]\n",
    "    \n",
    "    for idx, m in enumerate(mults):\n",
    "        if idx == 0:\n",
    "            continue\n",
    "        else:\n",
    "            estimated[idx] = sum(mults[:idx])/t_queue_0_col[idx]\n",
    "        \n",
    "    return estimated[1:-1]\n",
    "    pass"
   ]
  },
  {
   "cell_type": "code",
   "execution_count": 6,
   "metadata": {},
   "outputs": [],
   "source": [
    "random_seed = 123\n",
    "rng = np.random.RandomState(seed=random_seed)"
   ]
  },
  {
   "cell_type": "code",
   "execution_count": 7,
   "metadata": {},
   "outputs": [],
   "source": [
    "def generate_exponential(lmbda, title, size=1000, v=True, bins_scaler=200 ):\n",
    "    time_exponential = rng.exponential(1./lmbda, size=size)\n",
    "    if v:\n",
    "        plt.hist(time_exponential,bins=int(size/bins_scaler))\n",
    "        plt.title(title + \" - sampled data\")\n",
    "        plt.show()\n",
    "        # E(X) = 1/lmbda\n",
    "        E_X = time_exponential.mean()\n",
    "        print(\"estimated E_X = {}\".format(E_X))\n",
    "        print(\"thoeretical E_X = {}\".format(1/lmbda))\n",
    "    return time_exponential"
   ]
  },
  {
   "cell_type": "code",
   "execution_count": 8,
   "metadata": {},
   "outputs": [],
   "source": [
    "# Wykladniczy rozklad czasu pomiedzy kolejny zgloszeniami do systemu\n",
    "# lmbda * exp(-lmbda)\n",
    "lmbda_a = 1./20. #min^-1\n",
    "# Wykladniczy rozklad czasu obslugi pojedynczego zgloszenia\n",
    "# lmbda * exp(-lmbda)\n",
    "lmbda_s = 1./15. #min^-1\n",
    "dataset_size = 10000\n",
    "\n",
    "t_arrival = generate_exponential(lmbda_a, \"arrival times\", size=dataset_size, v=False)\n",
    "t_service = generate_exponential(lmbda_s, \"service times\", size=dataset_size, v=False)\n",
    "\n",
    "events = Events()\n",
    "for idx, arrive in enumerate(t_arrival):\n",
    "    events.add_event(arrive, t_service[idx])\n",
    "\n",
    "events.prepare_total_marked()\n",
    "events.calc_tasks_in_sys()\n",
    "\n",
    "events.calc_time_in_sys()\n",
    "# R - time in system\n",
    "R = events.time_in_sys\n",
    "\n",
    "events.prepare_queue()\n",
    "events.calc_queue()\n",
    "x_w = events.task_queue\n"
   ]
  },
  {
   "cell_type": "code",
   "execution_count": 9,
   "metadata": {},
   "outputs": [
    {
     "name": "stderr",
     "output_type": "stream",
     "text": [
      "/home/karol/anaconda3/envs/datascience/lib/python3.6/site-packages/ipykernel_launcher.py:22: RuntimeWarning: invalid value encountered in double_scalars\n"
     ]
    }
   ],
   "source": [
    "estimatedx = estimate_x(events.t_marked[:,0], events.tasks_in_sys)"
   ]
  },
  {
   "cell_type": "code",
   "execution_count": 10,
   "metadata": {},
   "outputs": [
    {
     "data": {
      "image/png": "[encoded data removed]",
      "text/plain": [
       "<Figure size 432x288 with 1 Axes>"
      ]
     },
     "metadata": {},
     "output_type": "display_data"
    }
   ],
   "source": [
    "plt.plot(range(len(estimatedx)), estimatedx)\n",
    "plt.title(\"Tasks in system estimation - x\")\n",
    "plt.xlabel(\"amout of events to estimation\")\n",
    "plt.ylabel(\"Tasks count \")\n",
    "plt.show()"
   ]
  },
  {
   "cell_type": "code",
   "execution_count": 11,
   "metadata": {
    "scrolled": true
   },
   "outputs": [],
   "source": [
    "estimated = estimate_R(R)"
   ]
  },
  {
   "cell_type": "code",
   "execution_count": 12,
   "metadata": {},
   "outputs": [
    {
     "data": {
      "image/png": "[encoded data removed]",
      "text/plain": [
       "<Figure size 432x288 with 1 Axes>"
      ]
     },
     "metadata": {},
     "output_type": "display_data"
    }
   ],
   "source": [
    "plt.plot(range(len(estimated)),estimated)\n",
    "plt.title(\"Estimated time in system on task - R\")\n",
    "plt.xlabel(\"Ordered task showed up in system\")\n",
    "plt.ylabel(\"time per task [minutes]\")\n",
    "plt.show()"
   ]
  },
  {
   "cell_type": "code",
   "execution_count": 13,
   "metadata": {
    "scrolled": true
   },
   "outputs": [
    {
     "name": "stderr",
     "output_type": "stream",
     "text": [
      "/home/karol/anaconda3/envs/datascience/lib/python3.6/site-packages/ipykernel_launcher.py:22: RuntimeWarning: invalid value encountered in double_scalars\n"
     ]
    }
   ],
   "source": [
    "estimatedxw = estimate_xw(events.t_queue[:,0], x_w)"
   ]
  },
  {
   "cell_type": "code",
   "execution_count": 14,
   "metadata": {},
   "outputs": [
    {
     "data": {
      "image/png": "[encoded data removed]",
      "text/plain": [
       "<Figure size 432x288 with 1 Axes>"
      ]
     },
     "metadata": {},
     "output_type": "display_data"
    }
   ],
   "source": [
    "plt.plot(range(len(estimatedxw)), estimatedxw)\n",
    "plt.title(\"Queue estimation - xw\")\n",
    "plt.xlabel(\"genereted task in simulation\")\n",
    "plt.ylabel(\"Tasks in queue\")\n",
    "plt.show()\n",
    "\n"
   ]
  },
  {
   "cell_type": "code",
   "execution_count": null,
   "metadata": {},
   "outputs": [],
   "source": []
  },
  {
   "cell_type": "code",
   "execution_count": null,
   "metadata": {},
   "outputs": [],
   "source": []
  },
  {
   "cell_type": "code",
   "execution_count": null,
   "metadata": {},
   "outputs": [],
   "source": []
  }
 ],
 "metadata": {
  "kernelspec": {
   "display_name": "Python 3",
   "language": "python",
   "name": "python3"
  },
  "language_info": {
   "codemirror_mode": {
    "name": "ipython",
    "version": 3
   },
   "file_extension": ".py",
   "mimetype": "text/x-python",
   "name": "python",
   "nbconvert_exporter": "python",
   "pygments_lexer": "ipython3",
   "version": "3.6.5"
  }
 },
 "nbformat": 4,
 "nbformat_minor": 2
}
